{
 "cells": [
  {
   "cell_type": "code",
   "execution_count": 1,
   "metadata": {},
   "outputs": [],
   "source": [
    "import numpy as np\n",
    "import matplotlib.pyplot as plt\n",
    "import os\n",
    "import cv2\n"
   ]
  },
  {
   "cell_type": "code",
   "execution_count": null,
   "metadata": {},
   "outputs": [],
   "source": []
  },
  {
   "cell_type": "code",
   "execution_count": 2,
   "metadata": {
    "scrolled": true
   },
   "outputs": [],
   "source": [
    "training_data = []\n",
    "\n",
    "def createDataSet(resolution, train_size,test_size):\n",
    "    directory = \"/home/phalguna/Documents/PetImages/\"\n",
    "    categories = [\"Dog\",\"Cat\"]\n",
    "    test_data = []\n",
    "    for cat in categories: \n",
    "        path = os.path.join(directory,cat)\n",
    "        class_num = categories.index(cat)\n",
    "        \n",
    "        trainList = os.listdir(path)[:train_size]\n",
    "        testList = os.listdir(path)[train_size + 1: test_size + train_size + 1]\n",
    "        i = 0\n",
    "        for img in trainList:\n",
    "            if i >= train_size:\n",
    "                break\n",
    "            try:\n",
    "                img_array = cv2.imread(os.path.join(path,img),cv2.IMREAD_GRAYSCALE)\n",
    "                newArr = cv2.resize(img_array, (resolution,resolution))\n",
    "                training_data.append([newArr,class_num])\n",
    "                i+=1\n",
    "            except Exception as e:\n",
    "                pass\n",
    "        i = 0\n",
    "        for img in testList:\n",
    "            if i >= test_size:\n",
    "                break\n",
    "            try:\n",
    "                img_array = cv2.imread(os.path.join(path,img),cv2.IMREAD_GRAYSCALE)\n",
    "                newArr = cv2.resize(img_array, (resolution,resolution))\n",
    "                test_data.append([newArr,class_num])\n",
    "                i+=1\n",
    "            except Exception as e:\n",
    "                pass\n",
    "            \n",
    "\n",
    "    x_train = []\n",
    "    y_train = []\n",
    "\n",
    "    x_test = []\n",
    "    y_test = []\n",
    "    \n",
    "    for features, label in training_data:\n",
    "        x_train.append(features)\n",
    "        y_train.append(label)\n",
    "\n",
    "    for features, label in test_data:\n",
    "        x_test.append(features)\n",
    "        y_test.append(label)\n",
    "        \n",
    "    x_train = np.array(x_train).reshape(-1,resolution,resolution,1)\n",
    "    x_test = np.array(x_test).reshape(-1,resolution,resolution,1)\n",
    "\n",
    "    return (x_train,y_train,x_test,y_test)\n",
    "\n"
   ]
  },
  {
   "cell_type": "code",
   "execution_count": null,
   "metadata": {},
   "outputs": [],
   "source": []
  },
  {
   "cell_type": "code",
   "execution_count": 3,
   "metadata": {
    "scrolled": true
   },
   "outputs": [
    {
     "name": "stdout",
     "output_type": "stream",
     "text": [
      "0\n"
     ]
    }
   ],
   "source": [
    "print(len(training_data))"
   ]
  },
  {
   "cell_type": "code",
   "execution_count": null,
   "metadata": {},
   "outputs": [],
   "source": []
  },
  {
   "cell_type": "code",
   "execution_count": 4,
   "metadata": {},
   "outputs": [],
   "source": [
    "import pickle\n",
    "#pickle_out = open(\"x.pickle\",\"wb\")\n",
    "#pickle.dump(x,pickle_out)\n",
    "#pickle_out.close()\n",
    "\n",
    "#pickle_out = open(\"y.pickle\",\"wb\")\n",
    "#pickle.dump(y,pickle_out)\n",
    "#pickle_out.close()\n"
   ]
  },
  {
   "cell_type": "code",
   "execution_count": 5,
   "metadata": {},
   "outputs": [],
   "source": [
    "def prepOutliers():\n",
    "    data = []\n",
    "    directory = \"/home/phalguna/Documents/Federer/\"\n",
    "    pictures = os.listdir(directory)\n",
    "    for img in pictures:\n",
    "            try:\n",
    "                img_array = cv2.imread(os.path.join(path,img),cv2.IMREAD_GRAYSCALE)\n",
    "                newArr = cv2.resize(img_array, (resolution,resolution))\n",
    "                data.append(newArr)\n",
    "            except Exception as e:\n",
    "                pass\n",
    "    \n",
    "    "
   ]
  },
  {
   "cell_type": "code",
   "execution_count": 6,
   "metadata": {
    "scrolled": true
   },
   "outputs": [
    {
     "name": "stderr",
     "output_type": "stream",
     "text": [
      "/home/phalguna/.local/lib/python3.6/site-packages/tensorflow/python/framework/dtypes.py:516: FutureWarning: Passing (type, 1) or '1type' as a synonym of type is deprecated; in a future version of numpy, it will be understood as (type, (1,)) / '(1,)type'.\n",
      "  _np_qint8 = np.dtype([(\"qint8\", np.int8, 1)])\n",
      "/home/phalguna/.local/lib/python3.6/site-packages/tensorflow/python/framework/dtypes.py:517: FutureWarning: Passing (type, 1) or '1type' as a synonym of type is deprecated; in a future version of numpy, it will be understood as (type, (1,)) / '(1,)type'.\n",
      "  _np_quint8 = np.dtype([(\"quint8\", np.uint8, 1)])\n",
      "/home/phalguna/.local/lib/python3.6/site-packages/tensorflow/python/framework/dtypes.py:518: FutureWarning: Passing (type, 1) or '1type' as a synonym of type is deprecated; in a future version of numpy, it will be understood as (type, (1,)) / '(1,)type'.\n",
      "  _np_qint16 = np.dtype([(\"qint16\", np.int16, 1)])\n",
      "/home/phalguna/.local/lib/python3.6/site-packages/tensorflow/python/framework/dtypes.py:519: FutureWarning: Passing (type, 1) or '1type' as a synonym of type is deprecated; in a future version of numpy, it will be understood as (type, (1,)) / '(1,)type'.\n",
      "  _np_quint16 = np.dtype([(\"quint16\", np.uint16, 1)])\n",
      "/home/phalguna/.local/lib/python3.6/site-packages/tensorflow/python/framework/dtypes.py:520: FutureWarning: Passing (type, 1) or '1type' as a synonym of type is deprecated; in a future version of numpy, it will be understood as (type, (1,)) / '(1,)type'.\n",
      "  _np_qint32 = np.dtype([(\"qint32\", np.int32, 1)])\n",
      "/home/phalguna/.local/lib/python3.6/site-packages/tensorflow/python/framework/dtypes.py:525: FutureWarning: Passing (type, 1) or '1type' as a synonym of type is deprecated; in a future version of numpy, it will be understood as (type, (1,)) / '(1,)type'.\n",
      "  np_resource = np.dtype([(\"resource\", np.ubyte, 1)])\n",
      "/home/phalguna/.local/lib/python3.6/site-packages/tensorboard/compat/tensorflow_stub/dtypes.py:541: FutureWarning: Passing (type, 1) or '1type' as a synonym of type is deprecated; in a future version of numpy, it will be understood as (type, (1,)) / '(1,)type'.\n",
      "  _np_qint8 = np.dtype([(\"qint8\", np.int8, 1)])\n",
      "/home/phalguna/.local/lib/python3.6/site-packages/tensorboard/compat/tensorflow_stub/dtypes.py:542: FutureWarning: Passing (type, 1) or '1type' as a synonym of type is deprecated; in a future version of numpy, it will be understood as (type, (1,)) / '(1,)type'.\n",
      "  _np_quint8 = np.dtype([(\"quint8\", np.uint8, 1)])\n",
      "/home/phalguna/.local/lib/python3.6/site-packages/tensorboard/compat/tensorflow_stub/dtypes.py:543: FutureWarning: Passing (type, 1) or '1type' as a synonym of type is deprecated; in a future version of numpy, it will be understood as (type, (1,)) / '(1,)type'.\n",
      "  _np_qint16 = np.dtype([(\"qint16\", np.int16, 1)])\n",
      "/home/phalguna/.local/lib/python3.6/site-packages/tensorboard/compat/tensorflow_stub/dtypes.py:544: FutureWarning: Passing (type, 1) or '1type' as a synonym of type is deprecated; in a future version of numpy, it will be understood as (type, (1,)) / '(1,)type'.\n",
      "  _np_quint16 = np.dtype([(\"quint16\", np.uint16, 1)])\n",
      "/home/phalguna/.local/lib/python3.6/site-packages/tensorboard/compat/tensorflow_stub/dtypes.py:545: FutureWarning: Passing (type, 1) or '1type' as a synonym of type is deprecated; in a future version of numpy, it will be understood as (type, (1,)) / '(1,)type'.\n",
      "  _np_qint32 = np.dtype([(\"qint32\", np.int32, 1)])\n",
      "/home/phalguna/.local/lib/python3.6/site-packages/tensorboard/compat/tensorflow_stub/dtypes.py:550: FutureWarning: Passing (type, 1) or '1type' as a synonym of type is deprecated; in a future version of numpy, it will be understood as (type, (1,)) / '(1,)type'.\n",
      "  np_resource = np.dtype([(\"resource\", np.ubyte, 1)])\n"
     ]
    },
    {
     "name": "stdout",
     "output_type": "stream",
     "text": [
      "WARNING:tensorflow:From /home/phalguna/.local/lib/python3.6/site-packages/tensorflow/python/ops/init_ops.py:1251: calling VarianceScaling.__init__ (from tensorflow.python.ops.init_ops) with dtype is deprecated and will be removed in a future version.\n",
      "Instructions for updating:\n",
      "Call initializer instance with the dtype argument instead of passing it to the constructor\n",
      "WARNING:tensorflow:From /home/phalguna/.local/lib/python3.6/site-packages/tensorflow/python/ops/nn_impl.py:180: add_dispatch_support.<locals>.wrapper (from tensorflow.python.ops.array_ops) is deprecated and will be removed in a future version.\n",
      "Instructions for updating:\n",
      "Use tf.where in 2.0, which has the same broadcast rule as np.where\n",
      "Train on 180 samples, validate on 20 samples\n",
      "Epoch 1/10\n",
      "180/180 [==============================] - 0s 2ms/sample - loss: 0.6824 - acc: 0.5556 - val_loss: 0.8504 - val_acc: 0.0000e+00\n",
      "Epoch 2/10\n",
      "180/180 [==============================] - 0s 1ms/sample - loss: 0.6691 - acc: 0.5556 - val_loss: 0.8261 - val_acc: 0.0500\n",
      "Epoch 3/10\n",
      "180/180 [==============================] - 0s 1ms/sample - loss: 0.6666 - acc: 0.5667 - val_loss: 0.8695 - val_acc: 0.0500\n",
      "Epoch 4/10\n",
      "180/180 [==============================] - 0s 1ms/sample - loss: 0.6444 - acc: 0.6611 - val_loss: 0.7497 - val_acc: 0.2000\n",
      "Epoch 5/10\n",
      "180/180 [==============================] - 0s 1ms/sample - loss: 0.6556 - acc: 0.6444 - val_loss: 0.8501 - val_acc: 0.1000\n",
      "Epoch 6/10\n",
      "180/180 [==============================] - 0s 1ms/sample - loss: 0.6217 - acc: 0.6778 - val_loss: 1.0309 - val_acc: 0.0500\n",
      "Epoch 7/10\n",
      "180/180 [==============================] - 0s 1ms/sample - loss: 0.6176 - acc: 0.6722 - val_loss: 0.8409 - val_acc: 0.1500\n",
      "Epoch 8/10\n",
      "180/180 [==============================] - 0s 1ms/sample - loss: 0.6004 - acc: 0.7278 - val_loss: 0.8668 - val_acc: 0.1500\n",
      "Epoch 9/10\n",
      "180/180 [==============================] - 0s 1ms/sample - loss: 0.5807 - acc: 0.7500 - val_loss: 0.9201 - val_acc: 0.2500\n",
      "Epoch 10/10\n",
      "180/180 [==============================] - 0s 1ms/sample - loss: 0.5659 - acc: 0.7556 - val_loss: 0.8427 - val_acc: 0.3500\n",
      "100/100 [==============================] - 0s 357us/sample - loss: 36.9017 - acc: 0.6500\n",
      "Test accuracy: 0.65\n",
      "Train on 1078 samples, validate on 120 samples\n",
      "Epoch 1/10\n",
      "1078/1078 [==============================] - 1s 1ms/sample - loss: 0.6845 - acc: 0.5436 - val_loss: 0.7964 - val_acc: 0.0083\n",
      "Epoch 2/10\n",
      "1078/1078 [==============================] - 1s 1ms/sample - loss: 0.6715 - acc: 0.5807 - val_loss: 0.8142 - val_acc: 0.0667\n",
      "Epoch 3/10\n",
      "1078/1078 [==============================] - 1s 1ms/sample - loss: 0.6538 - acc: 0.6169 - val_loss: 0.9889 - val_acc: 0.0500\n",
      "Epoch 4/10\n",
      "1078/1078 [==============================] - 1s 1ms/sample - loss: 0.6450 - acc: 0.6289 - val_loss: 0.6023 - val_acc: 0.7750\n",
      "Epoch 5/10\n",
      "1078/1078 [==============================] - 1s 1ms/sample - loss: 0.6100 - acc: 0.6948 - val_loss: 0.7790 - val_acc: 0.4083\n",
      "Epoch 6/10\n",
      "1078/1078 [==============================] - 1s 1ms/sample - loss: 0.5776 - acc: 0.7161 - val_loss: 0.8064 - val_acc: 0.4583\n",
      "Epoch 7/10\n",
      "1078/1078 [==============================] - 1s 1ms/sample - loss: 0.5450 - acc: 0.7356 - val_loss: 0.8804 - val_acc: 0.3917\n",
      "Epoch 8/10\n",
      "1078/1078 [==============================] - 1s 1ms/sample - loss: 0.5268 - acc: 0.7310 - val_loss: 0.6992 - val_acc: 0.6167\n",
      "Epoch 9/10\n",
      "1078/1078 [==============================] - 1s 1ms/sample - loss: 0.5041 - acc: 0.7579 - val_loss: 0.5261 - val_acc: 0.7667\n",
      "Epoch 10/10\n",
      "1078/1078 [==============================] - 1s 1ms/sample - loss: 0.4795 - acc: 0.7811 - val_loss: 0.7146 - val_acc: 0.6333\n",
      "200/200 [==============================] - 0s 268us/sample - loss: 105.3301 - acc: 0.6050\n",
      "Test accuracy: 0.605\n"
     ]
    }
   ],
   "source": [
    "import tensorflow as tf\n",
    "from tensorflow.keras.models import Sequential\n",
    "from tensorflow.keras.layers import Dense,Dropout,Activation,Flatten,Conv2D,MaxPooling2D\n",
    "\n",
    "\n",
    "def train(res,train_size,test_size):\n",
    "    train_images , train_labels, test_images, test_labels = createDataSet(res,train_size,test_size)\n",
    "    \n",
    "    train_images = train_images / 255.0\n",
    "    model = Sequential()\n",
    "    model.add(Conv2D(64,(3,3),input_shape = train_images.shape[1:]))\n",
    "    model.add(Activation(\"relu\"))\n",
    "    model.add(MaxPooling2D(pool_size = (2,2)))\n",
    "\n",
    "    model.add(Conv2D(64,(3,3)))\n",
    "    model.add(Activation(\"relu\"))\n",
    "    model.add(MaxPooling2D(pool_size = (2,2)))\n",
    "\n",
    "    model.add(Flatten())\n",
    "    model.add(Dense(1))\n",
    "\n",
    "    model.add(Activation('sigmoid'))\n",
    "    model.compile(loss = \"binary_crossentropy\",optimizer = 'adam',metrics=['accuracy'])\n",
    "    model.fit(train_images,train_labels,batch_size = 32,epochs = 10, validation_split = 0.1)\n",
    "    test_loss, test_acc = model.evaluate(test_images, test_labels)\n",
    "\n",
    "    \n",
    "    print('Test accuracy:', test_acc)\n",
    "\n",
    "#train(64,100,50)\n",
    "#train(64,500,100)\n",
    "train(32,100,50)\n",
    "train(32,500,100)"
   ]
  }
 ],
 "metadata": {
  "kernelspec": {
   "display_name": "Python 3",
   "language": "python",
   "name": "python3"
  },
  "language_info": {
   "codemirror_mode": {
    "name": "ipython",
    "version": 3
   },
   "file_extension": ".py",
   "mimetype": "text/x-python",
   "name": "python",
   "nbconvert_exporter": "python",
   "pygments_lexer": "ipython3",
   "version": "3.6.8"
  }
 },
 "nbformat": 4,
 "nbformat_minor": 2
}
